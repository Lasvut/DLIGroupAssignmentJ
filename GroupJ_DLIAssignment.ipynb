{
  "nbformat": 4,
  "nbformat_minor": 0,
  "metadata": {
    "colab": {
      "provenance": [],
      "toc_visible": true,
      "include_colab_link": true
    },
    "kernelspec": {
      "name": "python3",
      "display_name": "Python 3"
    },
    "language_info": {
      "name": "python"
    }
  },
  "cells": [
    {
      "cell_type": "markdown",
      "metadata": {
        "id": "view-in-github",
        "colab_type": "text"
      },
      "source": [
        "<a href=\"https://colab.research.google.com/github/Lasvut/DLIGroupAssignmentJ/blob/main/GroupJ_DLIAssignment.ipynb\" target=\"_parent\"><img src=\"https://colab.research.google.com/assets/colab-badge.svg\" alt=\"Open In Colab\"/></a>"
      ]
    },
    {
      "cell_type": "markdown",
      "source": [
        "# Setup"
      ],
      "metadata": {
        "id": "u3mmE-_amgur"
      }
    },
    {
      "cell_type": "code",
      "source": [
        "#Libraries\n",
        "import pandas as pd\n",
        "import numpy as np\n",
        "import tensorflow as tf\n",
        "from imblearn.over_sampling import RandomOverSampler\n",
        "from sklearn.model_selection import train_test_split\n",
        "from tensorflow.keras import layers, models, callbacks\n",
        "\n",
        "\n",
        "#Ridge\n",
        "from sklearn.preprocessing import StandardScaler\n",
        "from sklearn.linear_model import RidgeClassifierCV\n",
        "from sklearn.feature_selection import SelectFromModel\n",
        "\n",
        "\n",
        "#Reproductibility\n",
        "SEED = 42\n",
        "\n"
      ],
      "metadata": {
        "id": "WlprpNr6nQGF",
        "outputId": "1740dc98-3a71-460a-a0ff-df5152986eb4",
        "colab": {
          "base_uri": "https://localhost:8080/"
        }
      },
      "execution_count": null,
      "outputs": [
        {
          "output_type": "stream",
          "name": "stdout",
          "text": [
            "Requirement already satisfied: gradio in /usr/local/lib/python3.12/dist-packages (5.42.0)\n",
            "Requirement already satisfied: aiofiles<25.0,>=22.0 in /usr/local/lib/python3.12/dist-packages (from gradio) (24.1.0)\n",
            "Requirement already satisfied: anyio<5.0,>=3.0 in /usr/local/lib/python3.12/dist-packages (from gradio) (4.10.0)\n",
            "Requirement already satisfied: brotli>=1.1.0 in /usr/local/lib/python3.12/dist-packages (from gradio) (1.1.0)\n",
            "Requirement already satisfied: fastapi<1.0,>=0.115.2 in /usr/local/lib/python3.12/dist-packages (from gradio) (0.116.1)\n",
            "Requirement already satisfied: ffmpy in /usr/local/lib/python3.12/dist-packages (from gradio) (0.6.1)\n",
            "Requirement already satisfied: gradio-client==1.11.1 in /usr/local/lib/python3.12/dist-packages (from gradio) (1.11.1)\n",
            "Requirement already satisfied: groovy~=0.1 in /usr/local/lib/python3.12/dist-packages (from gradio) (0.1.2)\n",
            "Requirement already satisfied: httpx<1.0,>=0.24.1 in /usr/local/lib/python3.12/dist-packages (from gradio) (0.28.1)\n",
            "Requirement already satisfied: huggingface-hub<1.0,>=0.33.5 in /usr/local/lib/python3.12/dist-packages (from gradio) (0.34.4)\n",
            "Requirement already satisfied: jinja2<4.0 in /usr/local/lib/python3.12/dist-packages (from gradio) (3.1.6)\n",
            "Requirement already satisfied: markupsafe<4.0,>=2.0 in /usr/local/lib/python3.12/dist-packages (from gradio) (3.0.2)\n",
            "Requirement already satisfied: numpy<3.0,>=1.0 in /usr/local/lib/python3.12/dist-packages (from gradio) (2.0.2)\n",
            "Requirement already satisfied: orjson~=3.0 in /usr/local/lib/python3.12/dist-packages (from gradio) (3.11.2)\n",
            "Requirement already satisfied: packaging in /usr/local/lib/python3.12/dist-packages (from gradio) (25.0)\n",
            "Requirement already satisfied: pandas<3.0,>=1.0 in /usr/local/lib/python3.12/dist-packages (from gradio) (2.2.2)\n",
            "Requirement already satisfied: pillow<12.0,>=8.0 in /usr/local/lib/python3.12/dist-packages (from gradio) (11.3.0)\n",
            "Requirement already satisfied: pydantic<2.12,>=2.0 in /usr/local/lib/python3.12/dist-packages (from gradio) (2.11.7)\n",
            "Requirement already satisfied: pydub in /usr/local/lib/python3.12/dist-packages (from gradio) (0.25.1)\n",
            "Requirement already satisfied: python-multipart>=0.0.18 in /usr/local/lib/python3.12/dist-packages (from gradio) (0.0.20)\n",
            "Requirement already satisfied: pyyaml<7.0,>=5.0 in /usr/local/lib/python3.12/dist-packages (from gradio) (6.0.2)\n",
            "Requirement already satisfied: ruff>=0.9.3 in /usr/local/lib/python3.12/dist-packages (from gradio) (0.12.9)\n",
            "Requirement already satisfied: safehttpx<0.2.0,>=0.1.6 in /usr/local/lib/python3.12/dist-packages (from gradio) (0.1.6)\n",
            "Requirement already satisfied: semantic-version~=2.0 in /usr/local/lib/python3.12/dist-packages (from gradio) (2.10.0)\n",
            "Requirement already satisfied: starlette<1.0,>=0.40.0 in /usr/local/lib/python3.12/dist-packages (from gradio) (0.47.2)\n",
            "Requirement already satisfied: tomlkit<0.14.0,>=0.12.0 in /usr/local/lib/python3.12/dist-packages (from gradio) (0.13.3)\n",
            "Requirement already satisfied: typer<1.0,>=0.12 in /usr/local/lib/python3.12/dist-packages (from gradio) (0.16.0)\n",
            "Requirement already satisfied: typing-extensions~=4.0 in /usr/local/lib/python3.12/dist-packages (from gradio) (4.14.1)\n",
            "Requirement already satisfied: uvicorn>=0.14.0 in /usr/local/lib/python3.12/dist-packages (from gradio) (0.35.0)\n",
            "Requirement already satisfied: fsspec in /usr/local/lib/python3.12/dist-packages (from gradio-client==1.11.1->gradio) (2025.3.0)\n",
            "Requirement already satisfied: websockets<16.0,>=10.0 in /usr/local/lib/python3.12/dist-packages (from gradio-client==1.11.1->gradio) (15.0.1)\n",
            "Requirement already satisfied: idna>=2.8 in /usr/local/lib/python3.12/dist-packages (from anyio<5.0,>=3.0->gradio) (3.10)\n",
            "Requirement already satisfied: sniffio>=1.1 in /usr/local/lib/python3.12/dist-packages (from anyio<5.0,>=3.0->gradio) (1.3.1)\n",
            "Requirement already satisfied: certifi in /usr/local/lib/python3.12/dist-packages (from httpx<1.0,>=0.24.1->gradio) (2025.8.3)\n",
            "Requirement already satisfied: httpcore==1.* in /usr/local/lib/python3.12/dist-packages (from httpx<1.0,>=0.24.1->gradio) (1.0.9)\n",
            "Requirement already satisfied: h11>=0.16 in /usr/local/lib/python3.12/dist-packages (from httpcore==1.*->httpx<1.0,>=0.24.1->gradio) (0.16.0)\n",
            "Requirement already satisfied: filelock in /usr/local/lib/python3.12/dist-packages (from huggingface-hub<1.0,>=0.33.5->gradio) (3.19.1)\n",
            "Requirement already satisfied: requests in /usr/local/lib/python3.12/dist-packages (from huggingface-hub<1.0,>=0.33.5->gradio) (2.32.4)\n",
            "Requirement already satisfied: tqdm>=4.42.1 in /usr/local/lib/python3.12/dist-packages (from huggingface-hub<1.0,>=0.33.5->gradio) (4.67.1)\n",
            "Requirement already satisfied: hf-xet<2.0.0,>=1.1.3 in /usr/local/lib/python3.12/dist-packages (from huggingface-hub<1.0,>=0.33.5->gradio) (1.1.7)\n",
            "Requirement already satisfied: python-dateutil>=2.8.2 in /usr/local/lib/python3.12/dist-packages (from pandas<3.0,>=1.0->gradio) (2.9.0.post0)\n",
            "Requirement already satisfied: pytz>=2020.1 in /usr/local/lib/python3.12/dist-packages (from pandas<3.0,>=1.0->gradio) (2025.2)\n",
            "Requirement already satisfied: tzdata>=2022.7 in /usr/local/lib/python3.12/dist-packages (from pandas<3.0,>=1.0->gradio) (2025.2)\n",
            "Requirement already satisfied: annotated-types>=0.6.0 in /usr/local/lib/python3.12/dist-packages (from pydantic<2.12,>=2.0->gradio) (0.7.0)\n",
            "Requirement already satisfied: pydantic-core==2.33.2 in /usr/local/lib/python3.12/dist-packages (from pydantic<2.12,>=2.0->gradio) (2.33.2)\n",
            "Requirement already satisfied: typing-inspection>=0.4.0 in /usr/local/lib/python3.12/dist-packages (from pydantic<2.12,>=2.0->gradio) (0.4.1)\n",
            "Requirement already satisfied: click>=8.0.0 in /usr/local/lib/python3.12/dist-packages (from typer<1.0,>=0.12->gradio) (8.2.1)\n",
            "Requirement already satisfied: shellingham>=1.3.0 in /usr/local/lib/python3.12/dist-packages (from typer<1.0,>=0.12->gradio) (1.5.4)\n",
            "Requirement already satisfied: rich>=10.11.0 in /usr/local/lib/python3.12/dist-packages (from typer<1.0,>=0.12->gradio) (13.9.4)\n",
            "Requirement already satisfied: six>=1.5 in /usr/local/lib/python3.12/dist-packages (from python-dateutil>=2.8.2->pandas<3.0,>=1.0->gradio) (1.17.0)\n",
            "Requirement already satisfied: markdown-it-py>=2.2.0 in /usr/local/lib/python3.12/dist-packages (from rich>=10.11.0->typer<1.0,>=0.12->gradio) (4.0.0)\n",
            "Requirement already satisfied: pygments<3.0.0,>=2.13.0 in /usr/local/lib/python3.12/dist-packages (from rich>=10.11.0->typer<1.0,>=0.12->gradio) (2.19.2)\n",
            "Requirement already satisfied: charset_normalizer<4,>=2 in /usr/local/lib/python3.12/dist-packages (from requests->huggingface-hub<1.0,>=0.33.5->gradio) (3.4.3)\n",
            "Requirement already satisfied: urllib3<3,>=1.21.1 in /usr/local/lib/python3.12/dist-packages (from requests->huggingface-hub<1.0,>=0.33.5->gradio) (2.5.0)\n",
            "Requirement already satisfied: mdurl~=0.1 in /usr/local/lib/python3.12/dist-packages (from markdown-it-py>=2.2.0->rich>=10.11.0->typer<1.0,>=0.12->gradio) (0.1.2)\n"
          ]
        }
      ]
    },
    {
      "cell_type": "markdown",
      "source": [
        "# Data Loading"
      ],
      "metadata": {
        "id": "WdUgDnOZmjFM"
      }
    },
    {
      "cell_type": "code",
      "source": [
        "#Mount Drive\n",
        "\n",
        "from google.colab import drive\n",
        "drive.mount('/content/drive')\n",
        "data_path = ('/content/drive/MyDrive/PhiUSIIL_Phishing_URL_Dataset.csv')\n",
        "\n",
        "#Import Dataset\n",
        "df = pd.read_csv(data_path)\n",
        "\n",
        "print('Shape: ', df.shape)\n",
        "print('Columns: ', list(df.columns)[:10], '...')\n",
        "df.head(5)"
      ],
      "metadata": {
        "colab": {
          "base_uri": "https://localhost:8080/",
          "height": 308
        },
        "id": "_gPQKt3um2Gx",
        "outputId": "ddd442f4-d341-49d0-cdf5-ed0fb4145939"
      },
      "execution_count": 13,
      "outputs": [
        {
          "output_type": "stream",
          "name": "stdout",
          "text": [
            "Drive already mounted at /content/drive; to attempt to forcibly remount, call drive.mount(\"/content/drive\", force_remount=True).\n",
            "Shape:  (235795, 56)\n",
            "Columns:  ['FILENAME', 'URL', 'URLLength', 'Domain', 'DomainLength', 'IsDomainIP', 'TLD', 'URLSimilarityIndex', 'CharContinuationRate', 'TLDLegitimateProb'] ...\n"
          ]
        },
        {
          "output_type": "execute_result",
          "data": {
            "text/plain": [
              "     FILENAME                                 URL  URLLength  \\\n",
              "0  521848.txt    https://www.southbankmosaics.com         31   \n",
              "1   31372.txt            https://www.uni-mainz.de         23   \n",
              "2  597387.txt      https://www.voicefmradio.co.uk         29   \n",
              "3  554095.txt         https://www.sfnmjournal.com         26   \n",
              "4  151578.txt  https://www.rewildingargentina.org         33   \n",
              "\n",
              "                       Domain  DomainLength  IsDomainIP  TLD  \\\n",
              "0    www.southbankmosaics.com            24           0  com   \n",
              "1            www.uni-mainz.de            16           0   de   \n",
              "2      www.voicefmradio.co.uk            22           0   uk   \n",
              "3         www.sfnmjournal.com            19           0  com   \n",
              "4  www.rewildingargentina.org            26           0  org   \n",
              "\n",
              "   URLSimilarityIndex  CharContinuationRate  TLDLegitimateProb  ...  Pay  \\\n",
              "0               100.0              1.000000           0.522907  ...    0   \n",
              "1               100.0              0.666667           0.032650  ...    0   \n",
              "2               100.0              0.866667           0.028555  ...    0   \n",
              "3               100.0              1.000000           0.522907  ...    1   \n",
              "4               100.0              1.000000           0.079963  ...    1   \n",
              "\n",
              "   Crypto  HasCopyrightInfo  NoOfImage  NoOfCSS  NoOfJS  NoOfSelfRef  \\\n",
              "0       0                 1         34       20      28          119   \n",
              "1       0                 1         50        9       8           39   \n",
              "2       0                 1         10        2       7           42   \n",
              "3       1                 1          3       27      15           22   \n",
              "4       0                 1        244       15      34           72   \n",
              "\n",
              "   NoOfEmptyRef  NoOfExternalRef  label  \n",
              "0             0              124      1  \n",
              "1             0              217      1  \n",
              "2             2                5      1  \n",
              "3             1               31      1  \n",
              "4             1               85      1  \n",
              "\n",
              "[5 rows x 56 columns]"
            ],
            "text/html": [
              "\n",
              "  <div id=\"df-1e1bd59c-3965-4312-9308-809c613a35bd\" class=\"colab-df-container\">\n",
              "    <div>\n",
              "<style scoped>\n",
              "    .dataframe tbody tr th:only-of-type {\n",
              "        vertical-align: middle;\n",
              "    }\n",
              "\n",
              "    .dataframe tbody tr th {\n",
              "        vertical-align: top;\n",
              "    }\n",
              "\n",
              "    .dataframe thead th {\n",
              "        text-align: right;\n",
              "    }\n",
              "</style>\n",
              "<table border=\"1\" class=\"dataframe\">\n",
              "  <thead>\n",
              "    <tr style=\"text-align: right;\">\n",
              "      <th></th>\n",
              "      <th>FILENAME</th>\n",
              "      <th>URL</th>\n",
              "      <th>URLLength</th>\n",
              "      <th>Domain</th>\n",
              "      <th>DomainLength</th>\n",
              "      <th>IsDomainIP</th>\n",
              "      <th>TLD</th>\n",
              "      <th>URLSimilarityIndex</th>\n",
              "      <th>CharContinuationRate</th>\n",
              "      <th>TLDLegitimateProb</th>\n",
              "      <th>...</th>\n",
              "      <th>Pay</th>\n",
              "      <th>Crypto</th>\n",
              "      <th>HasCopyrightInfo</th>\n",
              "      <th>NoOfImage</th>\n",
              "      <th>NoOfCSS</th>\n",
              "      <th>NoOfJS</th>\n",
              "      <th>NoOfSelfRef</th>\n",
              "      <th>NoOfEmptyRef</th>\n",
              "      <th>NoOfExternalRef</th>\n",
              "      <th>label</th>\n",
              "    </tr>\n",
              "  </thead>\n",
              "  <tbody>\n",
              "    <tr>\n",
              "      <th>0</th>\n",
              "      <td>521848.txt</td>\n",
              "      <td>https://www.southbankmosaics.com</td>\n",
              "      <td>31</td>\n",
              "      <td>www.southbankmosaics.com</td>\n",
              "      <td>24</td>\n",
              "      <td>0</td>\n",
              "      <td>com</td>\n",
              "      <td>100.0</td>\n",
              "      <td>1.000000</td>\n",
              "      <td>0.522907</td>\n",
              "      <td>...</td>\n",
              "      <td>0</td>\n",
              "      <td>0</td>\n",
              "      <td>1</td>\n",
              "      <td>34</td>\n",
              "      <td>20</td>\n",
              "      <td>28</td>\n",
              "      <td>119</td>\n",
              "      <td>0</td>\n",
              "      <td>124</td>\n",
              "      <td>1</td>\n",
              "    </tr>\n",
              "    <tr>\n",
              "      <th>1</th>\n",
              "      <td>31372.txt</td>\n",
              "      <td>https://www.uni-mainz.de</td>\n",
              "      <td>23</td>\n",
              "      <td>www.uni-mainz.de</td>\n",
              "      <td>16</td>\n",
              "      <td>0</td>\n",
              "      <td>de</td>\n",
              "      <td>100.0</td>\n",
              "      <td>0.666667</td>\n",
              "      <td>0.032650</td>\n",
              "      <td>...</td>\n",
              "      <td>0</td>\n",
              "      <td>0</td>\n",
              "      <td>1</td>\n",
              "      <td>50</td>\n",
              "      <td>9</td>\n",
              "      <td>8</td>\n",
              "      <td>39</td>\n",
              "      <td>0</td>\n",
              "      <td>217</td>\n",
              "      <td>1</td>\n",
              "    </tr>\n",
              "    <tr>\n",
              "      <th>2</th>\n",
              "      <td>597387.txt</td>\n",
              "      <td>https://www.voicefmradio.co.uk</td>\n",
              "      <td>29</td>\n",
              "      <td>www.voicefmradio.co.uk</td>\n",
              "      <td>22</td>\n",
              "      <td>0</td>\n",
              "      <td>uk</td>\n",
              "      <td>100.0</td>\n",
              "      <td>0.866667</td>\n",
              "      <td>0.028555</td>\n",
              "      <td>...</td>\n",
              "      <td>0</td>\n",
              "      <td>0</td>\n",
              "      <td>1</td>\n",
              "      <td>10</td>\n",
              "      <td>2</td>\n",
              "      <td>7</td>\n",
              "      <td>42</td>\n",
              "      <td>2</td>\n",
              "      <td>5</td>\n",
              "      <td>1</td>\n",
              "    </tr>\n",
              "    <tr>\n",
              "      <th>3</th>\n",
              "      <td>554095.txt</td>\n",
              "      <td>https://www.sfnmjournal.com</td>\n",
              "      <td>26</td>\n",
              "      <td>www.sfnmjournal.com</td>\n",
              "      <td>19</td>\n",
              "      <td>0</td>\n",
              "      <td>com</td>\n",
              "      <td>100.0</td>\n",
              "      <td>1.000000</td>\n",
              "      <td>0.522907</td>\n",
              "      <td>...</td>\n",
              "      <td>1</td>\n",
              "      <td>1</td>\n",
              "      <td>1</td>\n",
              "      <td>3</td>\n",
              "      <td>27</td>\n",
              "      <td>15</td>\n",
              "      <td>22</td>\n",
              "      <td>1</td>\n",
              "      <td>31</td>\n",
              "      <td>1</td>\n",
              "    </tr>\n",
              "    <tr>\n",
              "      <th>4</th>\n",
              "      <td>151578.txt</td>\n",
              "      <td>https://www.rewildingargentina.org</td>\n",
              "      <td>33</td>\n",
              "      <td>www.rewildingargentina.org</td>\n",
              "      <td>26</td>\n",
              "      <td>0</td>\n",
              "      <td>org</td>\n",
              "      <td>100.0</td>\n",
              "      <td>1.000000</td>\n",
              "      <td>0.079963</td>\n",
              "      <td>...</td>\n",
              "      <td>1</td>\n",
              "      <td>0</td>\n",
              "      <td>1</td>\n",
              "      <td>244</td>\n",
              "      <td>15</td>\n",
              "      <td>34</td>\n",
              "      <td>72</td>\n",
              "      <td>1</td>\n",
              "      <td>85</td>\n",
              "      <td>1</td>\n",
              "    </tr>\n",
              "  </tbody>\n",
              "</table>\n",
              "<p>5 rows × 56 columns</p>\n",
              "</div>\n",
              "    <div class=\"colab-df-buttons\">\n",
              "\n",
              "  <div class=\"colab-df-container\">\n",
              "    <button class=\"colab-df-convert\" onclick=\"convertToInteractive('df-1e1bd59c-3965-4312-9308-809c613a35bd')\"\n",
              "            title=\"Convert this dataframe to an interactive table.\"\n",
              "            style=\"display:none;\">\n",
              "\n",
              "  <svg xmlns=\"http://www.w3.org/2000/svg\" height=\"24px\" viewBox=\"0 -960 960 960\">\n",
              "    <path d=\"M120-120v-720h720v720H120Zm60-500h600v-160H180v160Zm220 220h160v-160H400v160Zm0 220h160v-160H400v160ZM180-400h160v-160H180v160Zm440 0h160v-160H620v160ZM180-180h160v-160H180v160Zm440 0h160v-160H620v160Z\"/>\n",
              "  </svg>\n",
              "    </button>\n",
              "\n",
              "  <style>\n",
              "    .colab-df-container {\n",
              "      display:flex;\n",
              "      gap: 12px;\n",
              "    }\n",
              "\n",
              "    .colab-df-convert {\n",
              "      background-color: #E8F0FE;\n",
              "      border: none;\n",
              "      border-radius: 50%;\n",
              "      cursor: pointer;\n",
              "      display: none;\n",
              "      fill: #1967D2;\n",
              "      height: 32px;\n",
              "      padding: 0 0 0 0;\n",
              "      width: 32px;\n",
              "    }\n",
              "\n",
              "    .colab-df-convert:hover {\n",
              "      background-color: #E2EBFA;\n",
              "      box-shadow: 0px 1px 2px rgba(60, 64, 67, 0.3), 0px 1px 3px 1px rgba(60, 64, 67, 0.15);\n",
              "      fill: #174EA6;\n",
              "    }\n",
              "\n",
              "    .colab-df-buttons div {\n",
              "      margin-bottom: 4px;\n",
              "    }\n",
              "\n",
              "    [theme=dark] .colab-df-convert {\n",
              "      background-color: #3B4455;\n",
              "      fill: #D2E3FC;\n",
              "    }\n",
              "\n",
              "    [theme=dark] .colab-df-convert:hover {\n",
              "      background-color: #434B5C;\n",
              "      box-shadow: 0px 1px 3px 1px rgba(0, 0, 0, 0.15);\n",
              "      filter: drop-shadow(0px 1px 2px rgba(0, 0, 0, 0.3));\n",
              "      fill: #FFFFFF;\n",
              "    }\n",
              "  </style>\n",
              "\n",
              "    <script>\n",
              "      const buttonEl =\n",
              "        document.querySelector('#df-1e1bd59c-3965-4312-9308-809c613a35bd button.colab-df-convert');\n",
              "      buttonEl.style.display =\n",
              "        google.colab.kernel.accessAllowed ? 'block' : 'none';\n",
              "\n",
              "      async function convertToInteractive(key) {\n",
              "        const element = document.querySelector('#df-1e1bd59c-3965-4312-9308-809c613a35bd');\n",
              "        const dataTable =\n",
              "          await google.colab.kernel.invokeFunction('convertToInteractive',\n",
              "                                                    [key], {});\n",
              "        if (!dataTable) return;\n",
              "\n",
              "        const docLinkHtml = 'Like what you see? Visit the ' +\n",
              "          '<a target=\"_blank\" href=https://colab.research.google.com/notebooks/data_table.ipynb>data table notebook</a>'\n",
              "          + ' to learn more about interactive tables.';\n",
              "        element.innerHTML = '';\n",
              "        dataTable['output_type'] = 'display_data';\n",
              "        await google.colab.output.renderOutput(dataTable, element);\n",
              "        const docLink = document.createElement('div');\n",
              "        docLink.innerHTML = docLinkHtml;\n",
              "        element.appendChild(docLink);\n",
              "      }\n",
              "    </script>\n",
              "  </div>\n",
              "\n",
              "\n",
              "    <div id=\"df-4e86db28-faa1-406d-9a19-8ce12866daa9\">\n",
              "      <button class=\"colab-df-quickchart\" onclick=\"quickchart('df-4e86db28-faa1-406d-9a19-8ce12866daa9')\"\n",
              "                title=\"Suggest charts\"\n",
              "                style=\"display:none;\">\n",
              "\n",
              "<svg xmlns=\"http://www.w3.org/2000/svg\" height=\"24px\"viewBox=\"0 0 24 24\"\n",
              "     width=\"24px\">\n",
              "    <g>\n",
              "        <path d=\"M19 3H5c-1.1 0-2 .9-2 2v14c0 1.1.9 2 2 2h14c1.1 0 2-.9 2-2V5c0-1.1-.9-2-2-2zM9 17H7v-7h2v7zm4 0h-2V7h2v10zm4 0h-2v-4h2v4z\"/>\n",
              "    </g>\n",
              "</svg>\n",
              "      </button>\n",
              "\n",
              "<style>\n",
              "  .colab-df-quickchart {\n",
              "      --bg-color: #E8F0FE;\n",
              "      --fill-color: #1967D2;\n",
              "      --hover-bg-color: #E2EBFA;\n",
              "      --hover-fill-color: #174EA6;\n",
              "      --disabled-fill-color: #AAA;\n",
              "      --disabled-bg-color: #DDD;\n",
              "  }\n",
              "\n",
              "  [theme=dark] .colab-df-quickchart {\n",
              "      --bg-color: #3B4455;\n",
              "      --fill-color: #D2E3FC;\n",
              "      --hover-bg-color: #434B5C;\n",
              "      --hover-fill-color: #FFFFFF;\n",
              "      --disabled-bg-color: #3B4455;\n",
              "      --disabled-fill-color: #666;\n",
              "  }\n",
              "\n",
              "  .colab-df-quickchart {\n",
              "    background-color: var(--bg-color);\n",
              "    border: none;\n",
              "    border-radius: 50%;\n",
              "    cursor: pointer;\n",
              "    display: none;\n",
              "    fill: var(--fill-color);\n",
              "    height: 32px;\n",
              "    padding: 0;\n",
              "    width: 32px;\n",
              "  }\n",
              "\n",
              "  .colab-df-quickchart:hover {\n",
              "    background-color: var(--hover-bg-color);\n",
              "    box-shadow: 0 1px 2px rgba(60, 64, 67, 0.3), 0 1px 3px 1px rgba(60, 64, 67, 0.15);\n",
              "    fill: var(--button-hover-fill-color);\n",
              "  }\n",
              "\n",
              "  .colab-df-quickchart-complete:disabled,\n",
              "  .colab-df-quickchart-complete:disabled:hover {\n",
              "    background-color: var(--disabled-bg-color);\n",
              "    fill: var(--disabled-fill-color);\n",
              "    box-shadow: none;\n",
              "  }\n",
              "\n",
              "  .colab-df-spinner {\n",
              "    border: 2px solid var(--fill-color);\n",
              "    border-color: transparent;\n",
              "    border-bottom-color: var(--fill-color);\n",
              "    animation:\n",
              "      spin 1s steps(1) infinite;\n",
              "  }\n",
              "\n",
              "  @keyframes spin {\n",
              "    0% {\n",
              "      border-color: transparent;\n",
              "      border-bottom-color: var(--fill-color);\n",
              "      border-left-color: var(--fill-color);\n",
              "    }\n",
              "    20% {\n",
              "      border-color: transparent;\n",
              "      border-left-color: var(--fill-color);\n",
              "      border-top-color: var(--fill-color);\n",
              "    }\n",
              "    30% {\n",
              "      border-color: transparent;\n",
              "      border-left-color: var(--fill-color);\n",
              "      border-top-color: var(--fill-color);\n",
              "      border-right-color: var(--fill-color);\n",
              "    }\n",
              "    40% {\n",
              "      border-color: transparent;\n",
              "      border-right-color: var(--fill-color);\n",
              "      border-top-color: var(--fill-color);\n",
              "    }\n",
              "    60% {\n",
              "      border-color: transparent;\n",
              "      border-right-color: var(--fill-color);\n",
              "    }\n",
              "    80% {\n",
              "      border-color: transparent;\n",
              "      border-right-color: var(--fill-color);\n",
              "      border-bottom-color: var(--fill-color);\n",
              "    }\n",
              "    90% {\n",
              "      border-color: transparent;\n",
              "      border-bottom-color: var(--fill-color);\n",
              "    }\n",
              "  }\n",
              "</style>\n",
              "\n",
              "      <script>\n",
              "        async function quickchart(key) {\n",
              "          const quickchartButtonEl =\n",
              "            document.querySelector('#' + key + ' button');\n",
              "          quickchartButtonEl.disabled = true;  // To prevent multiple clicks.\n",
              "          quickchartButtonEl.classList.add('colab-df-spinner');\n",
              "          try {\n",
              "            const charts = await google.colab.kernel.invokeFunction(\n",
              "                'suggestCharts', [key], {});\n",
              "          } catch (error) {\n",
              "            console.error('Error during call to suggestCharts:', error);\n",
              "          }\n",
              "          quickchartButtonEl.classList.remove('colab-df-spinner');\n",
              "          quickchartButtonEl.classList.add('colab-df-quickchart-complete');\n",
              "        }\n",
              "        (() => {\n",
              "          let quickchartButtonEl =\n",
              "            document.querySelector('#df-4e86db28-faa1-406d-9a19-8ce12866daa9 button');\n",
              "          quickchartButtonEl.style.display =\n",
              "            google.colab.kernel.accessAllowed ? 'block' : 'none';\n",
              "        })();\n",
              "      </script>\n",
              "    </div>\n",
              "\n",
              "    </div>\n",
              "  </div>\n"
            ],
            "application/vnd.google.colaboratory.intrinsic+json": {
              "type": "dataframe",
              "variable_name": "df"
            }
          },
          "metadata": {},
          "execution_count": 13
        }
      ]
    },
    {
      "cell_type": "markdown",
      "source": [
        "# Pre-processing\n",
        "\n"
      ],
      "metadata": {
        "id": "32d8euBXmk4t"
      }
    },
    {
      "cell_type": "code",
      "source": [
        "text_col = ['FILENAME', 'URL', 'Domain', 'Title']\n",
        "target_col = 'label'\n",
        "\n",
        "print('Original shape: ', df.shape)\n",
        "\n",
        "#==========================Data Cleaning===========================\n",
        "\n",
        "#Drop empty rows\n",
        "df = df.dropna(how='all')\n",
        "\n",
        "#Drop rows with missing label; label: phishing 1, legit 0\n",
        "df = df.dropna(subset=[target_col])\n",
        "\n",
        "#Drop duplicaeds by FILENAME and URL\n",
        "if 'FILENAME' in df.columns:\n",
        "  df = df.drop_duplicates(subset='FILENAME')\n",
        "elif 'URL' in df.columns:\n",
        "  df = df.drop_duplicates(subset='URL')\n",
        "\n",
        "#Strop whitespace\n",
        "for col in df.select_dtypes(include=['object']).columns:\n",
        "  df[col] = df[col].astype(str).str.strip()\n",
        "\n",
        "#Drop raw text col\n",
        "for c in text_col:\n",
        "  if c in df.columns:\n",
        "    df = df.drop(columns=[c])\n",
        "\n",
        "#Ensure target col exist\n",
        "assert target_col in df.columns, f'Target column \"{target_col}\" not found.'\n",
        "\n",
        "#Convert columns to numeric\n",
        "feature_col = [c for c in df.columns if c != target_col]\n",
        "X_raw = df[feature_col].apply(pd.to_numeric, errors='coerce')\n",
        "y = df[target_col].astype(int)\n",
        "\n",
        "#===========================Noice filtering==========================\n",
        "\n",
        "#Ratios and Prob should always between 0 and 1\n",
        "ratio_col = [c for c in X_raw.columns if 'Ratio' in c or 'Prob' in c]\n",
        "for col in ratio_col:\n",
        "  if col in X_raw.columns:\n",
        "    bad_idx = X_raw[(X_raw[col] < 0) | (X_raw[col] > 1)].index\n",
        "    if len(bad_idx) > 0:\n",
        "      print(f'Dropping {len(bad_idx)} noisy rows from {col}')\n",
        "      X_raw = X_raw.drop(index=bad_idx)\n",
        "      y = y.drop(index=bad_idx)\n",
        "\n",
        "#Remove negative values from count columns\n",
        "count_col = [c for c in X_raw.columns if 'Length' in c or 'NoOf' in c or 'Line' in c]\n",
        "for col in count_col:\n",
        "  if col in X_raw.columns:\n",
        "    bad_idx = X_raw[X_raw[col] < 0].index\n",
        "    if len(bad_idx) > 0:\n",
        "      print(f'Dropping {len(bad_idx)} rows with negative value in {col}')\n",
        "      X_raw = X_raw.drop(index=bad_idx)\n",
        "      y = y.drop(index=bad_idx)\n",
        "\n",
        "#Fills NaNs with medians\n",
        "X_raw = X_raw.fillna(X_raw.median(numeric_only=True))\n",
        "\n",
        "print('After cleaning: ', X_raw.shape)\n",
        "\n",
        "#=============================Class balancing=========================================\n",
        "\n",
        "#Class balancing with ROS\n",
        "print('Initial Class Distribution: ')\n",
        "print(y.value_counts(dropna=False).sort_index())\n",
        "\n",
        "ros = RandomOverSampler(random_state=SEED)\n",
        "X_bal, y_bal = ros.fit_resample(X_raw, y)\n",
        "\n",
        "print('\\nAfter RandomOverSampler: ')\n",
        "print(y_bal.value_counts(dropna=False).sort_index())\n",
        "\n",
        "#============================Train-test split (80/20)====================================\n",
        "\n",
        "X_train_raw, X_test_raw, y_train, y_test = train_test_split(\n",
        "    X_bal, y_bal, test_size=0.2, random_state=SEED, stratify=y_bal\n",
        ")\n",
        "\n",
        "print('\\nTrain shape: ', X_train_raw.shape, 'Test shape: ', X_test_raw.shape)"
      ],
      "metadata": {
        "colab": {
          "base_uri": "https://localhost:8080/"
        },
        "id": "FB-b1toHoPuR",
        "outputId": "ddf98641-2812-4f42-82e8-ef8a1e642fcd"
      },
      "execution_count": 14,
      "outputs": [
        {
          "output_type": "stream",
          "name": "stdout",
          "text": [
            "Original shape:  (235795, 56)\n",
            "After cleaning:  (235795, 51)\n",
            "Initial Class Distribution: \n",
            "label\n",
            "0    100945\n",
            "1    134850\n",
            "Name: count, dtype: int64\n",
            "\n",
            "After RandomOverSampler: \n",
            "label\n",
            "0    134850\n",
            "1    134850\n",
            "Name: count, dtype: int64\n",
            "\n",
            "Train shape:  (215760, 51) Test shape:  (53940, 51)\n"
          ]
        }
      ]
    },
    {
      "cell_type": "markdown",
      "source": [
        "Optional Pre-processing: Ridge Regression-based Feature Selection"
      ],
      "metadata": {
        "id": "d3PEz3ca0rYH"
      }
    },
    {
      "cell_type": "code",
      "source": [
        "def ridge_feature_selection(X_train, X_test, y_train, feature_col):\n",
        "  #===========================Scalar features============================\n",
        "\n",
        "  scaler = StandardScaler()\n",
        "  X_train_scaled = scaler.fit_transform(X_train_raw)\n",
        "  X_test_scaled = scaler.transform(X_test_raw) #Changed fit_transform to transform just in case test set is \"leaked\" unto the model\n",
        "\n",
        "  #==========================Ridge with Cross-validation==================\n",
        "\n",
        "  ridge = RidgeClassifierCV(\n",
        "      alphas = np.logspace(-3, 3, 13), cv = 5\n",
        "  )\n",
        "\n",
        "  #Select Informative Feature\n",
        "  selector = SelectFromModel(estimator=ridge, threshold='median')\n",
        "  selector.fit(X_train_scaled, y_train)\n",
        "\n",
        "  #Check number of selected features\n",
        "  selected_mask = selector.get_support()\n",
        "  num_selected = selected_mask.sum()\n",
        "\n",
        "  #========================Transform data================================\n",
        "\n",
        "  X_train_fs = selector.transform(X_train_scaled)\n",
        "  X_test_fs = selector.transform(X_test_scaled)\n",
        "\n",
        "  #Track selected features\n",
        "  selected_features = np.array(feature_col)[selected_mask]\n",
        "\n",
        "  print(f'Selected features: {num_selected}/{len(feature_col)}')\n",
        "  print('Top features: ', list(selected_features))\n",
        "\n",
        "  return X_train_fs, X_test_fs, selected_features, scaler, selector #Added scaler and selector to return for easier model saving"
      ],
      "metadata": {
        "id": "xygeqV0e0yrH"
      },
      "execution_count": 15,
      "outputs": []
    },
    {
      "cell_type": "markdown",
      "source": [
        "Lim Jia Wei TP066781"
      ],
      "metadata": {
        "id": "8QzLc65ZYdno"
      }
    },
    {
      "cell_type": "code",
      "source": [
        "#Libraries\n",
        "import pandas as pd\n",
        "import numpy as np\n",
        "from imblearn.over_sampling import RandomOverSampler\n",
        "from sklearn.model_selection import train_test_split\n",
        "from sklearn.ensemble import GradientBoostingClassifier\n",
        "from sklearn.metrics import (\n",
        "    accuracy_score, precision_score, recall_score, f1_score,\n",
        "    roc_auc_score, log_loss, confusion_matrix, classification_report\n",
        ")\n",
        "import seaborn as sns\n",
        "import matplotlib.pyplot as plt\n",
        "\n",
        "SEED = 42\n",
        "\n",
        "#Columns\n",
        "text_col = ['FILENAME', 'URL', 'Domain', 'Title']\n",
        "target_col = 'label'\n",
        "\n",
        "print(\"\\n🔹 Original shape:\", df.shape)\n",
        "\n",
        "#Data Cleaning\n",
        "# Drop empty rows\n",
        "df = df.dropna(how='all')\n",
        "\n",
        "# Drop rows with missing label\n",
        "df = df.dropna(subset=[target_col])\n",
        "\n",
        "# Drop duplicates by FILENAME or URL\n",
        "if 'FILENAME' in df.columns:\n",
        "    df = df.drop_duplicates(subset='FILENAME')\n",
        "elif 'URL' in df.columns:\n",
        "    df = df.drop_duplicates(subset='URL')\n",
        "\n",
        "# Strip whitespace\n",
        "for col in df.select_dtypes(include=['object']).columns:\n",
        "    df[col] = df[col].astype(str).str.strip()\n",
        "\n",
        "# Drop raw text cols\n",
        "for c in text_col:\n",
        "    if c in df.columns:\n",
        "        df = df.drop(columns=[c])\n",
        "\n",
        "# Ensure target col exists\n",
        "assert target_col in df.columns, f\"Target column {target_col} not found.\"\n",
        "\n",
        "# Convert columns to numeric\n",
        "feature_col = [c for c in df.columns if c != target_col]\n",
        "X_raw = df[feature_col].apply(pd.to_numeric, errors='coerce')\n",
        "y = df[target_col].astype(int)\n",
        "\n",
        "#Noise Filtering\n",
        "# Ratios and Prob columns must be between 0 and 1\n",
        "ratio_col = [c for c in X_raw.columns if 'Ratio' in c or 'Prob' in c]\n",
        "for col in ratio_col:\n",
        "    bad_idx = X_raw[(X_raw[col] < 0) | (X_raw[col] > 1)].index\n",
        "    if len(bad_idx) > 0:\n",
        "        print(f\"Dropping {len(bad_idx)} noisy rows from {col}\")\n",
        "        X_raw = X_raw.drop(index=bad_idx)\n",
        "        y = y.drop(index=bad_idx)\n",
        "\n",
        "# Remove negative values from count columns\n",
        "count_col = [c for c in X_raw.columns if 'Length' in c or 'NoOf' in c or 'Line' in c]\n",
        "for col in count_col:\n",
        "    bad_idx = X_raw[X_raw[col] < 0].index\n",
        "    if len(bad_idx) > 0:\n",
        "        print(f\"Dropping {len(bad_idx)} rows with negative value in {col}\")\n",
        "        X_raw = X_raw.drop(index=bad_idx)\n",
        "        y = y.drop(index=bad_idx)\n",
        "\n",
        "# Fill NaNs with medians\n",
        "X_raw = X_raw.fillna(X_raw.median(numeric_only=True))\n",
        "\n",
        "print(\"After cleaning:\", X_raw.shape)\n",
        "\n",
        "#Class Balancing\n",
        "print(\"\\nInitial Class Distribution:\\n\", y.value_counts().sort_index())\n",
        "\n",
        "ros = RandomOverSampler(random_state=SEED)\n",
        "X_bal, y_bal = ros.fit_resample(X_raw, y)\n",
        "\n",
        "print(\"\\nAfter RandomOverSampler:\\n\", y_bal.value_counts().sort_index())\n",
        "\n",
        "# Train-Test Split\n",
        "X_train, X_test, y_train, y_test = train_test_split(\n",
        "    X_bal, y_bal, test_size=0.2, random_state=SEED, stratify=y_bal\n",
        ")\n",
        "\n",
        "print(\"\\nTrain shape:\", X_train.shape, \"Test shape:\", X_test.shape)"
      ],
      "metadata": {
        "colab": {
          "base_uri": "https://localhost:8080/"
        },
        "id": "k_vlFo_OYga9",
        "outputId": "e33ecc24-eba9-499b-db4a-ce10ff435ba2"
      },
      "execution_count": 16,
      "outputs": [
        {
          "output_type": "stream",
          "name": "stdout",
          "text": [
            "\n",
            "🔹 Original shape: (235795, 52)\n",
            "After cleaning: (235795, 51)\n",
            "\n",
            "Initial Class Distribution:\n",
            " label\n",
            "0    100945\n",
            "1    134850\n",
            "Name: count, dtype: int64\n",
            "\n",
            "After RandomOverSampler:\n",
            " label\n",
            "0    134850\n",
            "1    134850\n",
            "Name: count, dtype: int64\n",
            "\n",
            "Train shape: (215760, 51) Test shape: (53940, 51)\n"
          ]
        }
      ]
    },
    {
      "cell_type": "markdown",
      "source": [
        "# Model"
      ],
      "metadata": {
        "id": "przo1mXnmm3Y"
      }
    },
    {
      "cell_type": "markdown",
      "source": [
        "ANN - Tan Mu Yuan(TP069241)"
      ],
      "metadata": {
        "id": "DAgsFJrL_27P"
      }
    },
    {
      "cell_type": "code",
      "source": [
        "X_train_fs, X_test_fs, selected_features, scaler, selector = ridge_feature_selection(\n",
        "    X_train, X_test, y_train, feature_col #Changed X_train_raw and X_test_raw to X_train and X_test since its already test splitted and latest\n",
        ")\n",
        "\n",
        "def build_ann(input_dim: int) -> tf.keras.Model:\n",
        "  inputs = layers.Input(shape=(input_dim,))\n",
        "\n",
        "  #layer 1\n",
        "  x = layers.Dense(128, activation='relu')(inputs)\n",
        "  x = layers.Dropout(0.3)(x)\n",
        "\n",
        "  #layer 2\n",
        "  x = layers.Dense(64, activation='relu')(x)\n",
        "  x = layers.Dropout(0.2)(x)\n",
        "\n",
        "  #layer 3\n",
        "  x = layers.Dense(32, activation='relu')(x)\n",
        "\n",
        "  #Output layer\n",
        "  outputs = layers.Dense(1, activation='sigmoid')(x)\n",
        "\n",
        "  model = models.Model(inputs,outputs, name='Phishing_URL_Detection_using_ANN')\n",
        "  model.compile(\n",
        "      optimizer=tf.keras.optimizers.Adam(learning_rate=1e-3),\n",
        "      loss = 'binary_crossentropy',\n",
        "      metrics=['accuracy']\n",
        "  )\n",
        "  return model\n",
        "\n",
        "#Build mode using selected features\n",
        "input_dim = X_train_fs.shape[1]\n",
        "model = build_ann(input_dim)\n",
        "model.summary()\n",
        "print('Trainable Parameters: ', model.count_params())\n"
      ],
      "metadata": {
        "colab": {
          "base_uri": "https://localhost:8080/",
          "height": 425
        },
        "id": "MKoUNcV87y-o",
        "outputId": "941c0d72-96cb-4432-f4ae-1f723f773553"
      },
      "execution_count": 17,
      "outputs": [
        {
          "output_type": "stream",
          "name": "stdout",
          "text": [
            "Selected features: 26/51\n",
            "Top features:  [np.str_('URLLength'), np.str_('IsDomainIP'), np.str_('URLSimilarityIndex'), np.str_('TLDLegitimateProb'), np.str_('TLDLength'), np.str_('NoOfSubDomain'), np.str_('NoOfLettersInURL'), np.str_('LetterRatioInURL'), np.str_('NoOfDegitsInURL'), np.str_('DegitRatioInURL'), np.str_('NoOfEqualsInURL'), np.str_('NoOfAmpersandInURL'), np.str_('NoOfOtherSpecialCharsInURL'), np.str_('SpacialCharRatioInURL'), np.str_('IsHTTPS'), np.str_('DomainTitleMatchScore'), np.str_('URLTitleMatchScore'), np.str_('HasFavicon'), np.str_('Robots'), np.str_('NoOfURLRedirect'), np.str_('HasDescription'), np.str_('HasSocialNet'), np.str_('HasSubmitButton'), np.str_('HasHiddenFields'), np.str_('HasCopyrightInfo'), np.str_('NoOfJS')]\n"
          ]
        },
        {
          "output_type": "display_data",
          "data": {
            "text/plain": [
              "\u001b[1mModel: \"Phishing_URL_Detection_using_ANN\"\u001b[0m\n"
            ],
            "text/html": [
              "<pre style=\"white-space:pre;overflow-x:auto;line-height:normal;font-family:Menlo,'DejaVu Sans Mono',consolas,'Courier New',monospace\"><span style=\"font-weight: bold\">Model: \"Phishing_URL_Detection_using_ANN\"</span>\n",
              "</pre>\n"
            ]
          },
          "metadata": {}
        },
        {
          "output_type": "display_data",
          "data": {
            "text/plain": [
              "┏━━━━━━━━━━━━━━━━━━━━━━━━━━━━━━━━━┳━━━━━━━━━━━━━━━━━━━━━━━━┳━━━━━━━━━━━━━━━┓\n",
              "┃\u001b[1m \u001b[0m\u001b[1mLayer (type)                   \u001b[0m\u001b[1m \u001b[0m┃\u001b[1m \u001b[0m\u001b[1mOutput Shape          \u001b[0m\u001b[1m \u001b[0m┃\u001b[1m \u001b[0m\u001b[1m      Param #\u001b[0m\u001b[1m \u001b[0m┃\n",
              "┡━━━━━━━━━━━━━━━━━━━━━━━━━━━━━━━━━╇━━━━━━━━━━━━━━━━━━━━━━━━╇━━━━━━━━━━━━━━━┩\n",
              "│ input_layer_1 (\u001b[38;5;33mInputLayer\u001b[0m)      │ (\u001b[38;5;45mNone\u001b[0m, \u001b[38;5;34m26\u001b[0m)             │             \u001b[38;5;34m0\u001b[0m │\n",
              "├─────────────────────────────────┼────────────────────────┼───────────────┤\n",
              "│ dense_4 (\u001b[38;5;33mDense\u001b[0m)                 │ (\u001b[38;5;45mNone\u001b[0m, \u001b[38;5;34m128\u001b[0m)            │         \u001b[38;5;34m3,456\u001b[0m │\n",
              "├─────────────────────────────────┼────────────────────────┼───────────────┤\n",
              "│ dropout_2 (\u001b[38;5;33mDropout\u001b[0m)             │ (\u001b[38;5;45mNone\u001b[0m, \u001b[38;5;34m128\u001b[0m)            │             \u001b[38;5;34m0\u001b[0m │\n",
              "├─────────────────────────────────┼────────────────────────┼───────────────┤\n",
              "│ dense_5 (\u001b[38;5;33mDense\u001b[0m)                 │ (\u001b[38;5;45mNone\u001b[0m, \u001b[38;5;34m64\u001b[0m)             │         \u001b[38;5;34m8,256\u001b[0m │\n",
              "├─────────────────────────────────┼────────────────────────┼───────────────┤\n",
              "│ dropout_3 (\u001b[38;5;33mDropout\u001b[0m)             │ (\u001b[38;5;45mNone\u001b[0m, \u001b[38;5;34m64\u001b[0m)             │             \u001b[38;5;34m0\u001b[0m │\n",
              "├─────────────────────────────────┼────────────────────────┼───────────────┤\n",
              "│ dense_6 (\u001b[38;5;33mDense\u001b[0m)                 │ (\u001b[38;5;45mNone\u001b[0m, \u001b[38;5;34m32\u001b[0m)             │         \u001b[38;5;34m2,080\u001b[0m │\n",
              "├─────────────────────────────────┼────────────────────────┼───────────────┤\n",
              "│ dense_7 (\u001b[38;5;33mDense\u001b[0m)                 │ (\u001b[38;5;45mNone\u001b[0m, \u001b[38;5;34m1\u001b[0m)              │            \u001b[38;5;34m33\u001b[0m │\n",
              "└─────────────────────────────────┴────────────────────────┴───────────────┘\n"
            ],
            "text/html": [
              "<pre style=\"white-space:pre;overflow-x:auto;line-height:normal;font-family:Menlo,'DejaVu Sans Mono',consolas,'Courier New',monospace\">┏━━━━━━━━━━━━━━━━━━━━━━━━━━━━━━━━━┳━━━━━━━━━━━━━━━━━━━━━━━━┳━━━━━━━━━━━━━━━┓\n",
              "┃<span style=\"font-weight: bold\"> Layer (type)                    </span>┃<span style=\"font-weight: bold\"> Output Shape           </span>┃<span style=\"font-weight: bold\">       Param # </span>┃\n",
              "┡━━━━━━━━━━━━━━━━━━━━━━━━━━━━━━━━━╇━━━━━━━━━━━━━━━━━━━━━━━━╇━━━━━━━━━━━━━━━┩\n",
              "│ input_layer_1 (<span style=\"color: #0087ff; text-decoration-color: #0087ff\">InputLayer</span>)      │ (<span style=\"color: #00d7ff; text-decoration-color: #00d7ff\">None</span>, <span style=\"color: #00af00; text-decoration-color: #00af00\">26</span>)             │             <span style=\"color: #00af00; text-decoration-color: #00af00\">0</span> │\n",
              "├─────────────────────────────────┼────────────────────────┼───────────────┤\n",
              "│ dense_4 (<span style=\"color: #0087ff; text-decoration-color: #0087ff\">Dense</span>)                 │ (<span style=\"color: #00d7ff; text-decoration-color: #00d7ff\">None</span>, <span style=\"color: #00af00; text-decoration-color: #00af00\">128</span>)            │         <span style=\"color: #00af00; text-decoration-color: #00af00\">3,456</span> │\n",
              "├─────────────────────────────────┼────────────────────────┼───────────────┤\n",
              "│ dropout_2 (<span style=\"color: #0087ff; text-decoration-color: #0087ff\">Dropout</span>)             │ (<span style=\"color: #00d7ff; text-decoration-color: #00d7ff\">None</span>, <span style=\"color: #00af00; text-decoration-color: #00af00\">128</span>)            │             <span style=\"color: #00af00; text-decoration-color: #00af00\">0</span> │\n",
              "├─────────────────────────────────┼────────────────────────┼───────────────┤\n",
              "│ dense_5 (<span style=\"color: #0087ff; text-decoration-color: #0087ff\">Dense</span>)                 │ (<span style=\"color: #00d7ff; text-decoration-color: #00d7ff\">None</span>, <span style=\"color: #00af00; text-decoration-color: #00af00\">64</span>)             │         <span style=\"color: #00af00; text-decoration-color: #00af00\">8,256</span> │\n",
              "├─────────────────────────────────┼────────────────────────┼───────────────┤\n",
              "│ dropout_3 (<span style=\"color: #0087ff; text-decoration-color: #0087ff\">Dropout</span>)             │ (<span style=\"color: #00d7ff; text-decoration-color: #00d7ff\">None</span>, <span style=\"color: #00af00; text-decoration-color: #00af00\">64</span>)             │             <span style=\"color: #00af00; text-decoration-color: #00af00\">0</span> │\n",
              "├─────────────────────────────────┼────────────────────────┼───────────────┤\n",
              "│ dense_6 (<span style=\"color: #0087ff; text-decoration-color: #0087ff\">Dense</span>)                 │ (<span style=\"color: #00d7ff; text-decoration-color: #00d7ff\">None</span>, <span style=\"color: #00af00; text-decoration-color: #00af00\">32</span>)             │         <span style=\"color: #00af00; text-decoration-color: #00af00\">2,080</span> │\n",
              "├─────────────────────────────────┼────────────────────────┼───────────────┤\n",
              "│ dense_7 (<span style=\"color: #0087ff; text-decoration-color: #0087ff\">Dense</span>)                 │ (<span style=\"color: #00d7ff; text-decoration-color: #00d7ff\">None</span>, <span style=\"color: #00af00; text-decoration-color: #00af00\">1</span>)              │            <span style=\"color: #00af00; text-decoration-color: #00af00\">33</span> │\n",
              "└─────────────────────────────────┴────────────────────────┴───────────────┘\n",
              "</pre>\n"
            ]
          },
          "metadata": {}
        },
        {
          "output_type": "display_data",
          "data": {
            "text/plain": [
              "\u001b[1m Total params: \u001b[0m\u001b[38;5;34m13,825\u001b[0m (54.00 KB)\n"
            ],
            "text/html": [
              "<pre style=\"white-space:pre;overflow-x:auto;line-height:normal;font-family:Menlo,'DejaVu Sans Mono',consolas,'Courier New',monospace\"><span style=\"font-weight: bold\"> Total params: </span><span style=\"color: #00af00; text-decoration-color: #00af00\">13,825</span> (54.00 KB)\n",
              "</pre>\n"
            ]
          },
          "metadata": {}
        },
        {
          "output_type": "display_data",
          "data": {
            "text/plain": [
              "\u001b[1m Trainable params: \u001b[0m\u001b[38;5;34m13,825\u001b[0m (54.00 KB)\n"
            ],
            "text/html": [
              "<pre style=\"white-space:pre;overflow-x:auto;line-height:normal;font-family:Menlo,'DejaVu Sans Mono',consolas,'Courier New',monospace\"><span style=\"font-weight: bold\"> Trainable params: </span><span style=\"color: #00af00; text-decoration-color: #00af00\">13,825</span> (54.00 KB)\n",
              "</pre>\n"
            ]
          },
          "metadata": {}
        },
        {
          "output_type": "display_data",
          "data": {
            "text/plain": [
              "\u001b[1m Non-trainable params: \u001b[0m\u001b[38;5;34m0\u001b[0m (0.00 B)\n"
            ],
            "text/html": [
              "<pre style=\"white-space:pre;overflow-x:auto;line-height:normal;font-family:Menlo,'DejaVu Sans Mono',consolas,'Courier New',monospace\"><span style=\"font-weight: bold\"> Non-trainable params: </span><span style=\"color: #00af00; text-decoration-color: #00af00\">0</span> (0.00 B)\n",
              "</pre>\n"
            ]
          },
          "metadata": {}
        },
        {
          "output_type": "stream",
          "name": "stdout",
          "text": [
            "Trainable Parameters:  13825\n"
          ]
        }
      ]
    },
    {
      "cell_type": "markdown",
      "source": [
        "# Training"
      ],
      "metadata": {
        "id": "1YTX0kITmrXg"
      }
    },
    {
      "cell_type": "markdown",
      "source": [
        "ANN - Tan Mu Yuan(TP069241)"
      ],
      "metadata": {
        "id": "TQUpd3V6CXOX"
      }
    },
    {
      "cell_type": "code",
      "source": [
        "early_stop = callbacks.EarlyStopping(\n",
        "    monitor = 'val_loss', patience = 10, restore_best_weights = True\n",
        ")\n",
        "\n",
        "reduce_lr = callbacks.ReduceLROnPlateau(\n",
        "    monitor = 'val_loss', factor = 0.5, patience = 5, min_lr = 1e-5\n",
        ")\n",
        "\n",
        "ann_history = model.fit(\n",
        "    X_train_fs, y_train,\n",
        "    validation_data=(X_test_fs, y_test),\n",
        "    epochs = 50,\n",
        "    batch_size = 256,\n",
        "    callbacks = [early_stop, reduce_lr],\n",
        "    verbose = 1\n",
        ")"
      ],
      "metadata": {
        "colab": {
          "base_uri": "https://localhost:8080/"
        },
        "id": "jtZfEW7YCcfJ",
        "outputId": "d5b27545-0cc0-44d0-d506-d87a0724a3fe"
      },
      "execution_count": 18,
      "outputs": [
        {
          "output_type": "stream",
          "name": "stdout",
          "text": [
            "Epoch 1/50\n",
            "\u001b[1m843/843\u001b[0m \u001b[32m━━━━━━━━━━━━━━━━━━━━\u001b[0m\u001b[37m\u001b[0m \u001b[1m7s\u001b[0m 5ms/step - accuracy: 0.9820 - loss: 0.0588 - val_accuracy: 0.9996 - val_loss: 9.4698e-04 - learning_rate: 0.0010\n",
            "Epoch 2/50\n",
            "\u001b[1m843/843\u001b[0m \u001b[32m━━━━━━━━━━━━━━━━━━━━\u001b[0m\u001b[37m\u001b[0m \u001b[1m4s\u001b[0m 4ms/step - accuracy: 0.9997 - loss: 9.4757e-04 - val_accuracy: 0.9998 - val_loss: 5.9647e-04 - learning_rate: 0.0010\n",
            "Epoch 3/50\n",
            "\u001b[1m843/843\u001b[0m \u001b[32m━━━━━━━━━━━━━━━━━━━━\u001b[0m\u001b[37m\u001b[0m \u001b[1m4s\u001b[0m 5ms/step - accuracy: 0.9998 - loss: 7.2872e-04 - val_accuracy: 0.9998 - val_loss: 5.3267e-04 - learning_rate: 0.0010\n",
            "Epoch 4/50\n",
            "\u001b[1m843/843\u001b[0m \u001b[32m━━━━━━━━━━━━━━━━━━━━\u001b[0m\u001b[37m\u001b[0m \u001b[1m5s\u001b[0m 6ms/step - accuracy: 0.9998 - loss: 6.9849e-04 - val_accuracy: 0.9999 - val_loss: 3.9361e-04 - learning_rate: 0.0010\n",
            "Epoch 5/50\n",
            "\u001b[1m843/843\u001b[0m \u001b[32m━━━━━━━━━━━━━━━━━━━━\u001b[0m\u001b[37m\u001b[0m \u001b[1m4s\u001b[0m 4ms/step - accuracy: 0.9999 - loss: 4.9005e-04 - val_accuracy: 0.9999 - val_loss: 4.6833e-04 - learning_rate: 0.0010\n",
            "Epoch 6/50\n",
            "\u001b[1m843/843\u001b[0m \u001b[32m━━━━━━━━━━━━━━━━━━━━\u001b[0m\u001b[37m\u001b[0m \u001b[1m6s\u001b[0m 5ms/step - accuracy: 0.9999 - loss: 3.7253e-04 - val_accuracy: 0.9998 - val_loss: 6.0870e-04 - learning_rate: 0.0010\n",
            "Epoch 7/50\n",
            "\u001b[1m843/843\u001b[0m \u001b[32m━━━━━━━━━━━━━━━━━━━━\u001b[0m\u001b[37m\u001b[0m \u001b[1m5s\u001b[0m 5ms/step - accuracy: 0.9999 - loss: 4.5187e-04 - val_accuracy: 0.9999 - val_loss: 4.2797e-04 - learning_rate: 0.0010\n",
            "Epoch 8/50\n",
            "\u001b[1m843/843\u001b[0m \u001b[32m━━━━━━━━━━━━━━━━━━━━\u001b[0m\u001b[37m\u001b[0m \u001b[1m6s\u001b[0m 5ms/step - accuracy: 0.9999 - loss: 4.8136e-04 - val_accuracy: 0.9999 - val_loss: 3.2140e-04 - learning_rate: 0.0010\n",
            "Epoch 9/50\n",
            "\u001b[1m843/843\u001b[0m \u001b[32m━━━━━━━━━━━━━━━━━━━━\u001b[0m\u001b[37m\u001b[0m \u001b[1m6s\u001b[0m 6ms/step - accuracy: 0.9999 - loss: 4.2152e-04 - val_accuracy: 0.9999 - val_loss: 6.7207e-04 - learning_rate: 0.0010\n",
            "Epoch 10/50\n",
            "\u001b[1m843/843\u001b[0m \u001b[32m━━━━━━━━━━━━━━━━━━━━\u001b[0m\u001b[37m\u001b[0m \u001b[1m9s\u001b[0m 4ms/step - accuracy: 0.9999 - loss: 5.8427e-04 - val_accuracy: 0.9999 - val_loss: 3.3733e-04 - learning_rate: 5.0000e-04\n",
            "Epoch 11/50\n",
            "\u001b[1m843/843\u001b[0m \u001b[32m━━━━━━━━━━━━━━━━━━━━\u001b[0m\u001b[37m\u001b[0m \u001b[1m5s\u001b[0m 6ms/step - accuracy: 0.9999 - loss: 5.2891e-04 - val_accuracy: 0.9999 - val_loss: 3.1409e-04 - learning_rate: 5.0000e-04\n",
            "Epoch 12/50\n",
            "\u001b[1m843/843\u001b[0m \u001b[32m━━━━━━━━━━━━━━━━━━━━\u001b[0m\u001b[37m\u001b[0m \u001b[1m3s\u001b[0m 4ms/step - accuracy: 0.9999 - loss: 2.2731e-04 - val_accuracy: 0.9998 - val_loss: 4.0333e-04 - learning_rate: 5.0000e-04\n",
            "Epoch 13/50\n",
            "\u001b[1m843/843\u001b[0m \u001b[32m━━━━━━━━━━━━━━━━━━━━\u001b[0m\u001b[37m\u001b[0m \u001b[1m5s\u001b[0m 4ms/step - accuracy: 0.9999 - loss: 2.8559e-04 - val_accuracy: 0.9998 - val_loss: 3.5859e-04 - learning_rate: 5.0000e-04\n",
            "Epoch 14/50\n",
            "\u001b[1m843/843\u001b[0m \u001b[32m━━━━━━━━━━━━━━━━━━━━\u001b[0m\u001b[37m\u001b[0m \u001b[1m6s\u001b[0m 5ms/step - accuracy: 0.9999 - loss: 3.2132e-04 - val_accuracy: 0.9999 - val_loss: 3.7559e-04 - learning_rate: 5.0000e-04\n",
            "Epoch 15/50\n",
            "\u001b[1m843/843\u001b[0m \u001b[32m━━━━━━━━━━━━━━━━━━━━\u001b[0m\u001b[37m\u001b[0m \u001b[1m4s\u001b[0m 4ms/step - accuracy: 1.0000 - loss: 2.3171e-04 - val_accuracy: 0.9999 - val_loss: 3.4883e-04 - learning_rate: 2.5000e-04\n",
            "Epoch 16/50\n",
            "\u001b[1m843/843\u001b[0m \u001b[32m━━━━━━━━━━━━━━━━━━━━\u001b[0m\u001b[37m\u001b[0m \u001b[1m4s\u001b[0m 5ms/step - accuracy: 0.9999 - loss: 1.6218e-04 - val_accuracy: 0.9999 - val_loss: 3.1107e-04 - learning_rate: 2.5000e-04\n",
            "Epoch 17/50\n",
            "\u001b[1m843/843\u001b[0m \u001b[32m━━━━━━━━━━━━━━━━━━━━\u001b[0m\u001b[37m\u001b[0m \u001b[1m5s\u001b[0m 5ms/step - accuracy: 0.9999 - loss: 3.1108e-04 - val_accuracy: 0.9999 - val_loss: 3.6433e-04 - learning_rate: 2.5000e-04\n",
            "Epoch 18/50\n",
            "\u001b[1m843/843\u001b[0m \u001b[32m━━━━━━━━━━━━━━━━━━━━\u001b[0m\u001b[37m\u001b[0m \u001b[1m4s\u001b[0m 4ms/step - accuracy: 0.9999 - loss: 2.0955e-04 - val_accuracy: 0.9998 - val_loss: 4.5252e-04 - learning_rate: 2.5000e-04\n",
            "Epoch 19/50\n",
            "\u001b[1m843/843\u001b[0m \u001b[32m━━━━━━━━━━━━━━━━━━━━\u001b[0m\u001b[37m\u001b[0m \u001b[1m4s\u001b[0m 4ms/step - accuracy: 0.9999 - loss: 3.0461e-04 - val_accuracy: 0.9999 - val_loss: 3.4212e-04 - learning_rate: 2.5000e-04\n",
            "Epoch 20/50\n",
            "\u001b[1m843/843\u001b[0m \u001b[32m━━━━━━━━━━━━━━━━━━━━\u001b[0m\u001b[37m\u001b[0m \u001b[1m6s\u001b[0m 5ms/step - accuracy: 0.9999 - loss: 1.8624e-04 - val_accuracy: 0.9999 - val_loss: 3.5724e-04 - learning_rate: 1.2500e-04\n",
            "Epoch 21/50\n",
            "\u001b[1m843/843\u001b[0m \u001b[32m━━━━━━━━━━━━━━━━━━━━\u001b[0m\u001b[37m\u001b[0m \u001b[1m4s\u001b[0m 5ms/step - accuracy: 0.9999 - loss: 1.5260e-04 - val_accuracy: 0.9999 - val_loss: 3.1936e-04 - learning_rate: 1.2500e-04\n",
            "Epoch 22/50\n",
            "\u001b[1m843/843\u001b[0m \u001b[32m━━━━━━━━━━━━━━━━━━━━\u001b[0m\u001b[37m\u001b[0m \u001b[1m4s\u001b[0m 5ms/step - accuracy: 0.9999 - loss: 1.7897e-04 - val_accuracy: 0.9998 - val_loss: 4.3194e-04 - learning_rate: 1.2500e-04\n",
            "Epoch 23/50\n",
            "\u001b[1m843/843\u001b[0m \u001b[32m━━━━━━━━━━━━━━━━━━━━\u001b[0m\u001b[37m\u001b[0m \u001b[1m5s\u001b[0m 5ms/step - accuracy: 0.9999 - loss: 1.3926e-04 - val_accuracy: 0.9999 - val_loss: 3.3951e-04 - learning_rate: 1.2500e-04\n",
            "Epoch 24/50\n",
            "\u001b[1m843/843\u001b[0m \u001b[32m━━━━━━━━━━━━━━━━━━━━\u001b[0m\u001b[37m\u001b[0m \u001b[1m5s\u001b[0m 5ms/step - accuracy: 0.9999 - loss: 2.3945e-04 - val_accuracy: 0.9999 - val_loss: 3.0596e-04 - learning_rate: 1.2500e-04\n",
            "Epoch 25/50\n",
            "\u001b[1m843/843\u001b[0m \u001b[32m━━━━━━━━━━━━━━━━━━━━\u001b[0m\u001b[37m\u001b[0m \u001b[1m5s\u001b[0m 6ms/step - accuracy: 0.9999 - loss: 1.6186e-04 - val_accuracy: 0.9999 - val_loss: 2.6813e-04 - learning_rate: 6.2500e-05\n",
            "Epoch 26/50\n",
            "\u001b[1m843/843\u001b[0m \u001b[32m━━━━━━━━━━━━━━━━━━━━\u001b[0m\u001b[37m\u001b[0m \u001b[1m4s\u001b[0m 5ms/step - accuracy: 1.0000 - loss: 8.7581e-05 - val_accuracy: 0.9999 - val_loss: 2.6021e-04 - learning_rate: 6.2500e-05\n",
            "Epoch 27/50\n",
            "\u001b[1m843/843\u001b[0m \u001b[32m━━━━━━━━━━━━━━━━━━━━\u001b[0m\u001b[37m\u001b[0m \u001b[1m4s\u001b[0m 4ms/step - accuracy: 0.9999 - loss: 2.0114e-04 - val_accuracy: 0.9999 - val_loss: 2.8707e-04 - learning_rate: 6.2500e-05\n",
            "Epoch 28/50\n",
            "\u001b[1m843/843\u001b[0m \u001b[32m━━━━━━━━━━━━━━━━━━━━\u001b[0m\u001b[37m\u001b[0m \u001b[1m7s\u001b[0m 7ms/step - accuracy: 1.0000 - loss: 7.8949e-05 - val_accuracy: 0.9999 - val_loss: 2.4654e-04 - learning_rate: 6.2500e-05\n",
            "Epoch 29/50\n",
            "\u001b[1m843/843\u001b[0m \u001b[32m━━━━━━━━━━━━━━━━━━━━\u001b[0m\u001b[37m\u001b[0m \u001b[1m4s\u001b[0m 4ms/step - accuracy: 1.0000 - loss: 1.2072e-04 - val_accuracy: 0.9999 - val_loss: 2.4755e-04 - learning_rate: 6.2500e-05\n",
            "Epoch 30/50\n",
            "\u001b[1m843/843\u001b[0m \u001b[32m━━━━━━━━━━━━━━━━━━━━\u001b[0m\u001b[37m\u001b[0m \u001b[1m4s\u001b[0m 5ms/step - accuracy: 0.9999 - loss: 2.2265e-04 - val_accuracy: 0.9999 - val_loss: 2.6709e-04 - learning_rate: 6.2500e-05\n",
            "Epoch 31/50\n",
            "\u001b[1m843/843\u001b[0m \u001b[32m━━━━━━━━━━━━━━━━━━━━\u001b[0m\u001b[37m\u001b[0m \u001b[1m5s\u001b[0m 6ms/step - accuracy: 0.9999 - loss: 1.4541e-04 - val_accuracy: 0.9999 - val_loss: 2.6697e-04 - learning_rate: 3.1250e-05\n",
            "Epoch 32/50\n",
            "\u001b[1m843/843\u001b[0m \u001b[32m━━━━━━━━━━━━━━━━━━━━\u001b[0m\u001b[37m\u001b[0m \u001b[1m9s\u001b[0m 5ms/step - accuracy: 1.0000 - loss: 7.8778e-05 - val_accuracy: 0.9999 - val_loss: 2.5992e-04 - learning_rate: 3.1250e-05\n",
            "Epoch 33/50\n",
            "\u001b[1m843/843\u001b[0m \u001b[32m━━━━━━━━━━━━━━━━━━━━\u001b[0m\u001b[37m\u001b[0m \u001b[1m5s\u001b[0m 6ms/step - accuracy: 1.0000 - loss: 1.0748e-04 - val_accuracy: 0.9999 - val_loss: 2.5034e-04 - learning_rate: 3.1250e-05\n",
            "Epoch 34/50\n",
            "\u001b[1m843/843\u001b[0m \u001b[32m━━━━━━━━━━━━━━━━━━━━\u001b[0m\u001b[37m\u001b[0m \u001b[1m9s\u001b[0m 4ms/step - accuracy: 1.0000 - loss: 1.3013e-04 - val_accuracy: 0.9999 - val_loss: 2.6456e-04 - learning_rate: 3.1250e-05\n",
            "Epoch 35/50\n",
            "\u001b[1m843/843\u001b[0m \u001b[32m━━━━━━━━━━━━━━━━━━━━\u001b[0m\u001b[37m\u001b[0m \u001b[1m6s\u001b[0m 7ms/step - accuracy: 1.0000 - loss: 1.1694e-04 - val_accuracy: 0.9999 - val_loss: 2.7315e-04 - learning_rate: 3.1250e-05\n",
            "Epoch 36/50\n",
            "\u001b[1m843/843\u001b[0m \u001b[32m━━━━━━━━━━━━━━━━━━━━\u001b[0m\u001b[37m\u001b[0m \u001b[1m4s\u001b[0m 5ms/step - accuracy: 1.0000 - loss: 1.3141e-04 - val_accuracy: 0.9999 - val_loss: 2.6869e-04 - learning_rate: 1.5625e-05\n",
            "Epoch 37/50\n",
            "\u001b[1m843/843\u001b[0m \u001b[32m━━━━━━━━━━━━━━━━━━━━\u001b[0m\u001b[37m\u001b[0m \u001b[1m5s\u001b[0m 4ms/step - accuracy: 1.0000 - loss: 9.4081e-05 - val_accuracy: 0.9999 - val_loss: 2.6289e-04 - learning_rate: 1.5625e-05\n",
            "Epoch 38/50\n",
            "\u001b[1m843/843\u001b[0m \u001b[32m━━━━━━━━━━━━━━━━━━━━\u001b[0m\u001b[37m\u001b[0m \u001b[1m5s\u001b[0m 6ms/step - accuracy: 0.9999 - loss: 1.9849e-04 - val_accuracy: 0.9999 - val_loss: 2.6030e-04 - learning_rate: 1.5625e-05\n"
          ]
        }
      ]
    },
    {
      "cell_type": "markdown",
      "source": [
        "GBC - Lim Jia Wei (TP066781)"
      ],
      "metadata": {
        "id": "Jv6tPXq4YXhz"
      }
    },
    {
      "cell_type": "code",
      "source": [
        "#Gradient Boosting\n",
        "print(\"\\nTraining GradientBoostingClassifier...\")\n",
        "\n",
        "gbc = GradientBoostingClassifier(\n",
        "    n_estimators=2000,\n",
        "    learning_rate=0.01,\n",
        "    max_depth=7,\n",
        "    min_samples_split=5,\n",
        "    min_samples_leaf=2,\n",
        "    subsample=0.9,\n",
        "    max_features=\"sqrt\",\n",
        "    random_state=SEED\n",
        ")\n",
        "\n",
        "gbc.fit(X_train, y_train)\n",
        "\n",
        "# Predictions\n",
        "y_pred = gbc.predict(X_test)\n",
        "y_pred_proba = gbc.predict_proba(X_test)[:, 1]"
      ],
      "metadata": {
        "colab": {
          "base_uri": "https://localhost:8080/"
        },
        "id": "Kgcfp5iPYWc9",
        "outputId": "a884e0e9-fc49-4c73-fb54-3f64cc748cad"
      },
      "execution_count": 21,
      "outputs": [
        {
          "output_type": "stream",
          "name": "stdout",
          "text": [
            "\n",
            "Training GradientBoostingClassifier...\n"
          ]
        }
      ]
    },
    {
      "cell_type": "markdown",
      "source": [
        "# Implementation of both models (ANN+GBC)"
      ],
      "metadata": {
        "id": "gjOpn3UENsWW"
      }
    },
    {
      "cell_type": "markdown",
      "source": [
        "Model Stacking (Meta Classifier) TP068432 Runtime:859s"
      ],
      "metadata": {
        "id": "hbVDs2gnAl9k"
      }
    },
    {
      "cell_type": "code",
      "source": [
        "from sklearn.model_selection import train_test_split\n",
        "from sklearn.linear_model import LogisticRegression\n",
        "from sklearn.metrics import (accuracy_score, precision_score, recall_score, f1_score, roc_auc_score, log_loss, classification_report)\n",
        "import numpy as np\n",
        "\n",
        "#Split training set into inner-train and validation\n",
        "X_tr, X_val, y_tr, y_val = train_test_split(\n",
        "    X_train, y_train, test_size=0.2, random_state=SEED, stratify=y_train\n",
        ")\n",
        "\n",
        "#Build ANN inputs for inner split with previous scaler and selector\n",
        "X_tr_fs=selector.transform(scaler.transform(X_tr))\n",
        "X_val_fs=selector.transform(scaler.transform(X_val))\n",
        "\n",
        "#Train base model on inner-train (Fresh model for OOF-validation)\n",
        "#Retrains both model in a split inner-train\n",
        "gbc_oof=GradientBoostingClassifier(\n",
        "    n_estimators=2000, learning_rate= 0.01, max_depth=7, min_samples_split=5, min_samples_leaf=2, subsample=0.9, max_features=\"sqrt\", random_state=SEED\n",
        ").fit(X_tr, y_tr)\n",
        "\n",
        "ann_oof=build_ann(input_dim=X_tr_fs.shape[1])\n",
        "_=ann_oof.fit(\n",
        "    X_tr_fs, y_tr,\n",
        "    validation_data=(X_val_fs, y_val),\n",
        "    epochs=50, batch_size=256,\n",
        "    callbacks=[early_stop, reduce_lr],\n",
        "    verbose=0\n",
        ")\n",
        "\n",
        "#Validation probabilities from inner models\n",
        "proba_gbc_val=gbc_oof.predict_proba(X_val)[:,1]\n",
        "proba_ann_val=ann_oof.predict(X_val_fs, verbose=0).ravel()\n",
        "meta_x_val=np.column_stack([proba_ann_val,proba_gbc_val])\n",
        "meta_y_val=y_val\n",
        "\n",
        "#Train meta-classifier on validation prediction\n",
        "meta_clf=LogisticRegression(max_iter=1000, random_state=SEED).fit(meta_x_val, meta_y_val)\n",
        "\n",
        "#Evaluate on true held-out TEST set using full models\n",
        "#Prepare ANN input for test\n",
        "X_test_fs=selector.transform(scaler.transform(X_test))\n",
        "\n",
        "proba_gbc_test=gbc.predict_proba(X_test)[:,1]\n",
        "proba_ann_test=model.predict(X_test_fs, verbose=0).ravel()\n",
        "\n",
        "meta_X_test=np.column_stack([proba_ann_test, proba_gbc_test])\n",
        "proba_stack=meta_clf.predict_proba(meta_X_test)[:, 1]\n",
        "pred_stack=(proba_stack>=0.5).astype(int)\n",
        "\n",
        "print(\"\\n====Stacking Ensemble (Meta on Validation, Eval on test)====\")\n",
        "print(f\"Accuracy: {accuracy_score(y_test, pred_stack):.4f}\")\n",
        "print(f\"Precision: {precision_score(y_test, pred_stack):.4f}\")\n",
        "print(f\"Recall: {recall_score(y_test, pred_stack):.4f}\")\n",
        "print(f\"F1-Score: {f1_score(y_test, pred_stack):.4f}\")\n",
        "print(f\"ROC-AUC: {roc_auc_score(y_test, proba_stack):.4f}\")\n",
        "print(f\"Log Loss: {log_loss(y_test, proba_stack):.4f}\")\n",
        "print(\"\\nClassification Report:\\n\", classification_report(y_test, pred_stack))\n",
        "\n",
        "#joblib.dump(meta_clf, 'artifacts/meta_classifier.joblib') if uses this"
      ],
      "metadata": {
        "colab": {
          "base_uri": "https://localhost:8080/"
        },
        "id": "i5VH7rglAqtq",
        "outputId": "a36cfb4a-cd94-4705-8622-5a0864c477e2"
      },
      "execution_count": 22,
      "outputs": [
        {
          "output_type": "stream",
          "name": "stdout",
          "text": [
            "\n",
            "====Stacking Ensemble (Meta on Validation, Eval on test)====\n",
            "Accuracy: 1.0000\n",
            "Precision: 1.0000\n",
            "Recall: 1.0000\n",
            "F1-Score: 1.0000\n",
            "ROC-AUC: 1.0000\n",
            "Log Loss: 0.0005\n",
            "\n",
            "Classification Report:\n",
            "               precision    recall  f1-score   support\n",
            "\n",
            "           0       1.00      1.00      1.00     26970\n",
            "           1       1.00      1.00      1.00     26970\n",
            "\n",
            "    accuracy                           1.00     53940\n",
            "   macro avg       1.00      1.00      1.00     53940\n",
            "weighted avg       1.00      1.00      1.00     53940\n",
            "\n"
          ]
        }
      ]
    },
    {
      "cell_type": "markdown",
      "source": [
        "# Evaluation"
      ],
      "metadata": {
        "id": "RPTH1SMvms73"
      }
    },
    {
      "cell_type": "markdown",
      "source": [
        "Lim Jia Wei - TP066781"
      ],
      "metadata": {
        "id": "ih02lfzkarBm"
      }
    },
    {
      "cell_type": "code",
      "source": [
        "#Evaluation\n",
        "acc = accuracy_score(y_test, y_pred)\n",
        "prec = precision_score(y_test, y_pred)\n",
        "rec = recall_score(y_test, y_pred)\n",
        "f1 = f1_score(y_test, y_pred)\n",
        "roc_auc = roc_auc_score(y_test, y_pred_proba)\n",
        "loss = log_loss(y_test, y_pred_proba)\n",
        "\n",
        "print(\"\\n=== Gradient Boosting Results ===\")\n",
        "print(f\"Accuracy : {acc:.4f}\")\n",
        "print(f\"Precision: {prec:.4f}\")\n",
        "print(f\"Recall   : {rec:.4f}\")\n",
        "print(f\"F1-score : {f1:.4f}\")\n",
        "print(f\"ROC-AUC  : {roc_auc:.4f}\")\n",
        "print(f\"Log Loss : {loss:.4f}\")\n",
        "\n",
        "print(\"\\nClassification Report:\")\n",
        "print(classification_report(y_test, y_pred))"
      ],
      "metadata": {
        "colab": {
          "base_uri": "https://localhost:8080/"
        },
        "id": "oZtwtJ-Waqjb",
        "outputId": "394f841f-4b7f-4ad7-9897-ec263d24391c"
      },
      "execution_count": 23,
      "outputs": [
        {
          "output_type": "stream",
          "name": "stdout",
          "text": [
            "\n",
            "=== Gradient Boosting Results ===\n",
            "Accuracy : 1.0000\n",
            "Precision: 1.0000\n",
            "Recall   : 1.0000\n",
            "F1-score : 1.0000\n",
            "ROC-AUC  : 1.0000\n",
            "Log Loss : 0.0000\n",
            "\n",
            "Classification Report:\n",
            "              precision    recall  f1-score   support\n",
            "\n",
            "           0       1.00      1.00      1.00     26970\n",
            "           1       1.00      1.00      1.00     26970\n",
            "\n",
            "    accuracy                           1.00     53940\n",
            "   macro avg       1.00      1.00      1.00     53940\n",
            "weighted avg       1.00      1.00      1.00     53940\n",
            "\n"
          ]
        }
      ]
    },
    {
      "cell_type": "code",
      "source": [
        "from sklearn.metrics import confusion_matrix\n",
        "\n",
        "#Generate confusion matrix\n",
        "cm = confusion_matrix(y_test, pred_stack)\n",
        "\n",
        "#plot confusion matrix\n",
        "plt.figure(figsize=(6, 4))\n",
        "sns.heatmap(cm, annot=True, fmt=\"d\", cmap=\"Blues\",\n",
        "            xticklabels=[\"Legit (0)\", \"Phishing (1)\"],\n",
        "            yticklabels=[\"Legit (0)\", \"Phishing (1)\"])\n",
        "plt.xlabel(\"Predicted\")\n",
        "plt.ylabel(\"Actual\")\n",
        "plt.title(\"Confusion Matrix - Gradient Boosting Classifier\")\n",
        "plt.show()\n"
      ],
      "metadata": {
        "colab": {
          "base_uri": "https://localhost:8080/",
          "height": 410
        },
        "id": "psjs2OQya1Po",
        "outputId": "5e0d8635-71b6-4cee-90cd-7ff1b241146c"
      },
      "execution_count": 24,
      "outputs": [
        {
          "output_type": "display_data",
          "data": {
            "text/plain": [
              "<Figure size 600x400 with 2 Axes>"
            ],
            "image/png": "[encoded data removed]"
          },
          "metadata": {}
        }
      ]
    },
    {
      "cell_type": "code",
      "source": [
        "from sklearn.metrics import roc_curve, roc_auc_score\n",
        "\n",
        "fpr, tpr, _ = roc_curve(y_test, proba_stack)\n",
        "auc = roc_auc_score(y_test, proba_stack)\n",
        "\n",
        "plt.figure(figsize=(5.6,4.2))\n",
        "plt.plot(fpr, tpr, lw=2, label=f'AUC={auc:.4f}')\n",
        "plt.plot([0,1],[0,1],'--',lw=1,color='gray')\n",
        "plt.xlabel('False Positive Rate'); plt.ylabel('True Positive Rate')\n",
        "plt.title('ROC Curve'); plt.legend(); plt.grid(True, alpha=0.3)\n",
        "plt.tight_layout(); plt.show()"
      ],
      "metadata": {
        "id": "APrklPxfTCpP",
        "outputId": "9da3572f-9947-450e-dd89-74fce556bbc5",
        "colab": {
          "base_uri": "https://localhost:8080/",
          "height": 426
        }
      },
      "execution_count": 25,
      "outputs": [
        {
          "output_type": "display_data",
          "data": {
            "text/plain": [
              "<Figure size 560x420 with 1 Axes>"
            ],
            "image/png": "[encoded data removed]"
          },
          "metadata": {}
        }
      ]
    },
    {
      "cell_type": "markdown",
      "source": [
        "# Save Model"
      ],
      "metadata": {
        "id": "gKKkIrjMmvr_"
      }
    },
    {
      "cell_type": "markdown",
      "source": [
        "Tan Sin Hong TP068432"
      ],
      "metadata": {
        "id": "dZqOsOHv85ta"
      }
    },
    {
      "cell_type": "code",
      "source": [
        "import joblib, json, os\n",
        "#Save sklearn objects and small JSON file for feature names\n",
        "os.makedirs(\"artifacts\",exist_ok=True)\n",
        "#Dump GBC\n",
        "joblib.dump(gbc, \"artifacts/gbc_model.joblib\")\n",
        "#Save ANN Processing artifacts and model\n",
        "joblib.dump(scaler, \"artifacts/ann_scaler.joblib\")\n",
        "joblib.dump(selector, \"artifacts/ann_selector.joblib\")\n",
        "model.save(\"artifacts/ann_model.keras\")\n",
        "joblib.dump(meta_clf, \"artifacts/meta_clf.joblib\")\n",
        "\n",
        "#Save selected feature names and training feature order\n",
        "with open(\"artifacts/selected_features.json\",\"w\") as f:\n",
        "  json.dump(list(map(str, selected_features)), f)\n",
        "\n",
        "with open(\"artifacts/feature_order.json\",\"w\") as f:\n",
        "  json.dump(list(map(str, feature_col)), f)"
      ],
      "metadata": {
        "id": "u3bb1vDL87dw"
      },
      "execution_count": 26,
      "outputs": []
    },
    {
      "cell_type": "markdown",
      "source": [
        "Option 1: Push the artifacts into a git repo (still investigating might be dangerous dont run first)"
      ],
      "metadata": {
        "id": "Q-ILEr1_I98Z"
      }
    },
    {
      "cell_type": "code",
      "source": [
        "!git config --global user.name Lasvut\n",
        "\n",
        "!git clone https://github.com/Lasvut/DLIGroupAssignmentJ.git\n",
        "\n",
        "import shutil\n",
        "shutil.move(\"artifacts\",\"/content/DLIGroupAsssignmentJ/artifacts\")\n",
        "\n",
        "%cd /content/DLIGroupAssignmentJ\n",
        "\n",
        "!git add artifacts\n",
        "!git commit -m \"Updated artifacts to repository\"\n",
        "!git push origin main"
      ],
      "metadata": {
        "id": "-NR1EVajI8ts"
      },
      "execution_count": null,
      "outputs": []
    },
    {
      "cell_type": "markdown",
      "source": [
        "Option 2: Download Artifacts"
      ],
      "metadata": {
        "id": "lbD8_BjYKlbd"
      }
    },
    {
      "cell_type": "code",
      "source": [
        "from google.colab import files\n",
        "import shutil\n",
        "zip_filename=\"/content/artifacts.zip\"\n",
        "shutil.make_archive(zip_filename.replace('.zip',''),'zip',\"artifacts\")\n",
        "files.download(zip_filename)"
      ],
      "metadata": {
        "id": "QauyGohoKtl3",
        "outputId": "b9d00bf5-d48f-4576-a511-997988c9214c",
        "colab": {
          "base_uri": "https://localhost:8080/",
          "height": 17
        }
      },
      "execution_count": 27,
      "outputs": [
        {
          "output_type": "display_data",
          "data": {
            "text/plain": [
              "<IPython.core.display.Javascript object>"
            ],
            "application/javascript": [
              "\n",
              "    async function download(id, filename, size) {\n",
              "      if (!google.colab.kernel.accessAllowed) {\n",
              "        return;\n",
              "      }\n",
              "      const div = document.createElement('div');\n",
              "      const label = document.createElement('label');\n",
              "      label.textContent = `Downloading \"${filename}\": `;\n",
              "      div.appendChild(label);\n",
              "      const progress = document.createElement('progress');\n",
              "      progress.max = size;\n",
              "      div.appendChild(progress);\n",
              "      document.body.appendChild(div);\n",
              "\n",
              "      const buffers = [];\n",
              "      let downloaded = 0;\n",
              "\n",
              "      const channel = await google.colab.kernel.comms.open(id);\n",
              "      // Send a message to notify the kernel that we're ready.\n",
              "      channel.send({})\n",
              "\n",
              "      for await (const message of channel.messages) {\n",
              "        // Send a message to notify the kernel that we're ready.\n",
              "        channel.send({})\n",
              "        if (message.buffers) {\n",
              "          for (const buffer of message.buffers) {\n",
              "            buffers.push(buffer);\n",
              "            downloaded += buffer.byteLength;\n",
              "            progress.value = downloaded;\n",
              "          }\n",
              "        }\n",
              "      }\n",
              "      const blob = new Blob(buffers, {type: 'application/binary'});\n",
              "      const a = document.createElement('a');\n",
              "      a.href = window.URL.createObjectURL(blob);\n",
              "      a.download = filename;\n",
              "      div.appendChild(a);\n",
              "      a.click();\n",
              "      div.remove();\n",
              "    }\n",
              "  "
            ]
          },
          "metadata": {}
        },
        {
          "output_type": "display_data",
          "data": {
            "text/plain": [
              "<IPython.core.display.Javascript object>"
            ],
            "application/javascript": [
              "download(\"download_62a66827-f950-47ea-adf1-557b8059a591\", \"artifacts.zip\", 10815721)"
            ]
          },
          "metadata": {}
        }
      ]
    },
    {
      "cell_type": "markdown",
      "source": [
        "Option 2: Save the artifacts into your Google Drive"
      ],
      "metadata": {
        "id": "8FR4Ir0OJEes"
      }
    },
    {
      "cell_type": "code",
      "source": [
        "from google.colab import drive\n",
        "import shutil\n",
        "drive.mount('/content/drive')\n",
        "\n",
        "os.makedirs(\"/content/drive/MyDrive/Phish_URL_ML_Artifacts\", exist_ok=True)\n",
        "shutil.copytree(\"artifacts\",\"/content/drive/MyDrive/Phish_URL_ML_Artifacts\")"
      ],
      "metadata": {
        "id": "OnXUDekkJLxQ"
      },
      "execution_count": null,
      "outputs": []
    },
    {
      "cell_type": "markdown",
      "source": [
        "#GUI"
      ],
      "metadata": {
        "id": "0sOBNSFwVmXy"
      }
    },
    {
      "cell_type": "markdown",
      "source": [
        "Tan Sin Hong TP068432 (Gradio)"
      ],
      "metadata": {
        "id": "bddfsFF0VrGj"
      }
    },
    {
      "cell_type": "code",
      "source": [
        "import gradio as gr\n",
        "import joblib\n",
        "import numpy as np\n",
        "import pandas as pd\n",
        "import json\n",
        "\n",
        "#Load the model\n",
        "grad_model=joblib.load('artifacts/meta_clf.joblib')\n",
        "feature_col=json.load(open(\"artifacts/selected_features.json\"))\n",
        "\n",
        "def predict(input_data):\n",
        "  if isinstance(input_data, str): #Check if input data is an URL\n",
        "    features=extract_features_from_url(input_data)\n",
        "    #Both applies if the model requires scaling and feature selecting (ANN)\n",
        "    X=[features]\n",
        "  else:\n",
        "    df=pd.read_csv(input_data.name) #Read uploaded CSV File\n",
        "    X=df[feature_col]\n",
        "\n",
        "  #Make predictions\n",
        "  prediction_proba=grad_model.predict_proba(X_fs)[:, 1]\n",
        "  prediction=(prediction_proba >=0.5).astype(int)\n",
        "\n",
        "  #Return prediction and probabilities\n",
        "  return {\"Prediction\": \"Phishing\" if prediction[0]==1 else \"Legit\",\n",
        "          \"Phishing Probability\": prediction_proba[0],\n",
        "          \"Legit Probability\": 1 - prediction_proba[0]}\n",
        "\n",
        "def extract_features_from_url(input_data):\n",
        "  #Logic to extract URL features\n",
        "  return features\n",
        "\n",
        "#Create the Gradio interface\n",
        "interface=gr.Interface(\n",
        "    fn=predict,\n",
        "    inputs=[gr.File(label=\"Upload CSV File\"), gr.Textbox(label=\"Enter URL\",placeholder=\"https://example.com\")],\n",
        "    outputs=\"json\",\n",
        "    live=True,\n",
        "    title=\"Phishing URL Detection\",\n",
        "    description=\"Hola! Please upload your CSV files of URLs or enter a URL to predict whether it is a legit or phishing website!\",\n",
        "    allow_flagging=\"never\" #Avoid flagging inputs\n",
        "\n",
        ")\n",
        "\n",
        "interface.launch(share=True)"
      ],
      "metadata": {
        "id": "F8vkLSBWVoCB",
        "outputId": "36f6da55-dde3-488a-9f0e-fd1f903576ec",
        "colab": {
          "base_uri": "https://localhost:8080/",
          "height": 715
        }
      },
      "execution_count": 31,
      "outputs": [
        {
          "output_type": "stream",
          "name": "stderr",
          "text": [
            "/usr/local/lib/python3.12/dist-packages/gradio/interface.py:425: UserWarning: The `allow_flagging` parameter in `Interface` is deprecated. Use `flagging_mode` instead.\n",
            "  warnings.warn(\n",
            "/usr/local/lib/python3.12/dist-packages/gradio/utils.py:1054: UserWarning: Expected 1 arguments for function <function predict at 0x79541c285760>, received 2.\n",
            "  warnings.warn(\n",
            "/usr/local/lib/python3.12/dist-packages/gradio/utils.py:1062: UserWarning: Expected maximum 1 arguments for function <function predict at 0x79541c285760>, received 2.\n",
            "  warnings.warn(\n"
          ]
        },
        {
          "output_type": "stream",
          "name": "stdout",
          "text": [
            "Colab notebook detected. To show errors in colab notebook, set debug=True in launch()\n",
            "* Running on public URL: https://dd979397143ba0e06a.gradio.live\n",
            "\n",
            "This share link expires in 1 week. For free permanent hosting and GPU upgrades, run `gradio deploy` from the terminal in the working directory to deploy to Hugging Face Spaces (https://huggingface.co/spaces)\n"
          ]
        },
        {
          "output_type": "display_data",
          "data": {
            "text/plain": [
              "<IPython.core.display.HTML object>"
            ],
            "text/html": [
              "<div><iframe src=\"https://dd979397143ba0e06a.gradio.live\" width=\"100%\" height=\"500\" allow=\"autoplay; camera; microphone; clipboard-read; clipboard-write;\" frameborder=\"0\" allowfullscreen></iframe></div>"
            ]
          },
          "metadata": {}
        },
        {
          "output_type": "execute_result",
          "data": {
            "text/plain": []
          },
          "metadata": {},
          "execution_count": 31
        }
      ]
    }
  ]
}